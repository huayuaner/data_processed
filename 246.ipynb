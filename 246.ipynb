{
 "cells": [
  {
   "cell_type": "code",
   "execution_count": 17,
   "metadata": {},
   "outputs": [],
   "source": [
    "import numpy as np\n",
    "import pandas as pd"
   ]
  },
  {
   "cell_type": "code",
   "execution_count": null,
   "metadata": {},
   "outputs": [],
   "source": []
  },
  {
   "cell_type: "code",
   "execution_count": 18,
   "metadata": {},
   "outputs": [],
   "source": [
    "data = pd.read_csv(r\"D:\\jupyterwork\\_processing_data\\_datasets\\_T1_fMRI_DTI_246_normal.csv\",index_col=0)\n"
   ]
  },
  {
   "cell_type": "code",
   "execution_count": 19,
   "metadata": {},
   "outputs": [
    {
     "data": {
      "text/html": [
       "<div>\n",
       "<style scoped>\n",
       "    .dataframe tbody tr th:only-of-type {\n",
       "        vertical-align: middle;\n",
       "    }\n",
       "\n",
       "    .dataframe tbody tr th {\n",
       "        vertical-align: top;\n",
       "    }\n",
       "\n",
       "    .dataframe thead th {\n",
       "        text-align: right;\n",
       "    }\n",
       "</style>\n",
       "<table border=\"1\" class=\"dataframe\">\n",
       "  <thead>\n",
       "    <tr style=\"text-align: right;\">\n",
       "      <th></th>\n",
       "      <th>LABEL_SCORE</th>\n",
       "      <th>GMV_1</th>\n",
       "      <th>GMV_2</th>\n",
       "      <th>GMV_3</th>\n",
       "      <th>GMV_4</th>\n",
       "      <th>GMV_5</th>\n",
       "      <th>GMV_6</th>\n",
       "      <th>GMV_7</th>\n",
       "      <th>GMV_8</th>\n",
       "      <th>GMV_9</th>\n",
       "      <th>...</th>\n",
       "      <th>MD_41</th>\n",
       "      <th>MD_42</th>\n",
       "      <th>MD_43</th>\n",
       "      <th>MD_44</th>\n",
       "      <th>MD_45</th>\n",
       "      <th>MD_46</th>\n",
       "      <th>MD_47</th>\n",
       "      <th>MD_48</th>\n",
       "      <th>MD_49</th>\n",
       "      <th>MD_50</th>\n",
       "    </tr>\n",
       "    <tr>\n",
       "      <th>ID</th>\n",
       "      <th></th>\n",
       "      <th></th>\n",
       "      <th></th>\n",
       "      <th></th>\n",
       "      <th></th>\n",
       "      <th></th>\n",
       "      <th></th>\n",
       "      <th></th>\n",
       "      <th></th>\n",
       "      <th></th>\n",
       "      <th></th>\n",
       "      <th></th>\n",
       "      <th></th>\n",
       "      <th></th>\n",
       "      <th></th>\n",
       "      <th></th>\n",
       "      <th></th>\n",
       "      <th></th>\n",
       "      <th></th>\n",
       "      <th></th>\n",
       "      <th></th>\n",
       "    </tr>\n",
       "  </thead>\n",
       "  <tbody>\n",
       "    <tr>\n",
       "      <th>NC_08_0001</th>\n",
       "      <td>32</td>\n",
       "      <td>0.494914</td>\n",
       "      <td>0.513408</td>\n",
       "      <td>0.422797</td>\n",
       "      <td>0.506214</td>\n",
       "      <td>0.484444</td>\n",
       "      <td>0.495233</td>\n",
       "      <td>0.436044</td>\n",
       "      <td>0.425841</td>\n",
       "      <td>0.522421</td>\n",
       "      <td>...</td>\n",
       "      <td>0.000357</td>\n",
       "      <td>0.000357</td>\n",
       "      <td>0.000326</td>\n",
       "      <td>0.000333</td>\n",
       "      <td>0.000386</td>\n",
       "      <td>0.000382</td>\n",
       "      <td>0.000378</td>\n",
       "      <td>0.000386</td>\n",
       "      <td>0.000610</td>\n",
       "      <td>0.000682</td>\n",
       "    </tr>\n",
       "    <tr>\n",
       "      <th>NC_08_0002</th>\n",
       "      <td>32</td>\n",
       "      <td>0.474547</td>\n",
       "      <td>0.483112</td>\n",
       "      <td>0.449062</td>\n",
       "      <td>0.511868</td>\n",
       "      <td>0.477657</td>\n",
       "      <td>0.424143</td>\n",
       "      <td>0.443636</td>\n",
       "      <td>0.434213</td>\n",
       "      <td>0.510647</td>\n",
       "      <td>...</td>\n",
       "      <td>0.000366</td>\n",
       "      <td>0.000344</td>\n",
       "      <td>0.000329</td>\n",
       "      <td>0.000306</td>\n",
       "      <td>0.000386</td>\n",
       "      <td>0.000367</td>\n",
       "      <td>0.000397</td>\n",
       "      <td>0.000377</td>\n",
       "      <td>0.000604</td>\n",
       "      <td>0.000731</td>\n",
       "    </tr>\n",
       "    <tr>\n",
       "      <th>NC_08_0003</th>\n",
       "      <td>31</td>\n",
       "      <td>0.426076</td>\n",
       "      <td>0.474524</td>\n",
       "      <td>0.510646</td>\n",
       "      <td>0.487962</td>\n",
       "      <td>0.427163</td>\n",
       "      <td>0.456446</td>\n",
       "      <td>0.361904</td>\n",
       "      <td>0.373379</td>\n",
       "      <td>0.416834</td>\n",
       "      <td>...</td>\n",
       "      <td>0.000368</td>\n",
       "      <td>0.000361</td>\n",
       "      <td>0.000342</td>\n",
       "      <td>0.000314</td>\n",
       "      <td>0.000388</td>\n",
       "      <td>0.000389</td>\n",
       "      <td>0.000377</td>\n",
       "      <td>0.000367</td>\n",
       "      <td>0.000711</td>\n",
       "      <td>0.000792</td>\n",
       "    </tr>\n",
       "    <tr>\n",
       "      <th>NC_08_0005</th>\n",
       "      <td>51</td>\n",
       "      <td>0.365329</td>\n",
       "      <td>0.455602</td>\n",
       "      <td>0.426185</td>\n",
       "      <td>0.403082</td>\n",
       "      <td>0.388829</td>\n",
       "      <td>0.389191</td>\n",
       "      <td>0.338003</td>\n",
       "      <td>0.314985</td>\n",
       "      <td>0.398376</td>\n",
       "      <td>...</td>\n",
       "      <td>0.000364</td>\n",
       "      <td>0.000365</td>\n",
       "      <td>0.000356</td>\n",
       "      <td>0.000350</td>\n",
       "      <td>0.000399</td>\n",
       "      <td>0.000389</td>\n",
       "      <td>0.000379</td>\n",
       "      <td>0.000371</td>\n",
       "      <td>0.000663</td>\n",
       "      <td>0.000789</td>\n",
       "    </tr>\n",
       "    <tr>\n",
       "      <th>NC_08_0006</th>\n",
       "      <td>33</td>\n",
       "      <td>0.376721</td>\n",
       "      <td>0.407141</td>\n",
       "      <td>0.324653</td>\n",
       "      <td>0.398436</td>\n",
       "      <td>0.411252</td>\n",
       "      <td>0.368701</td>\n",
       "      <td>0.286941</td>\n",
       "      <td>0.340025</td>\n",
       "      <td>0.365708</td>\n",
       "      <td>...</td>\n",
       "      <td>0.000350</td>\n",
       "      <td>0.000352</td>\n",
       "      <td>0.000345</td>\n",
       "      <td>0.000340</td>\n",
       "      <td>0.000389</td>\n",
       "      <td>0.000364</td>\n",
       "      <td>0.000385</td>\n",
       "      <td>0.000360</td>\n",
       "      <td>0.000627</td>\n",
       "      <td>0.000656</td>\n",
       "    </tr>\n",
       "  </tbody>\n",
       "</table>\n",
       "<p>5 rows × 1431 columns</p>\n",
       "</div>"
      ],
      "text/plain": [
       "            LABEL_SCORE     GMV_1     GMV_2     GMV_3     GMV_4     GMV_5  \\\n",
       "ID                                                                          \n",
       "NC_08_0001           32  0.494914  0.513408  0.422797  0.506214  0.484444   \n",
       "NC_08_0002           32  0.474547  0.483112  0.449062  0.511868  0.477657   \n",
       "NC_08_0003           31  0.426076  0.474524  0.510646  0.487962  0.427163   \n",
       "NC_08_0005           51  0.365329  0.455602  0.426185  0.403082  0.388829   \n",
       "NC_08_0006           33  0.376721  0.407141  0.324653  0.398436  0.411252   \n",
       "\n",
       "               GMV_6     GMV_7     GMV_8     GMV_9  ...     MD_41     MD_42  \\\n",
       "ID                                                  ...                       \n",
       "NC_08_0001  0.495233  0.436044  0.425841  0.522421  ...  0.000357  0.000357   \n",
       "NC_08_0002  0.424143  0.443636  0.434213  0.510647  ...  0.000366  0.000344   \n",
       "NC_08_0003  0.456446  0.361904  0.373379  0.416834  ...  0.000368  0.000361   \n",
       "NC_08_0005  0.389191  0.338003  0.314985  0.398376  ...  0.000364  0.000365   \n",
       "NC_08_0006  0.368701  0.286941  0.340025  0.365708  ...  0.000350  0.000352   \n",
       "\n",
       "               MD_43     MD_44     MD_45     MD_46     MD_47     MD_48  \\\n",
       "ID                                                                       \n",
       "NC_08_0001  0.000326  0.000333  0.000386  0.000382  0.000378  0.000386   \n",
       "NC_08_0002  0.000329  0.000306  0.000386  0.000367  0.000397  0.000377   \n",
       "NC_08_0003  0.000342  0.000314  0.000388  0.000389  0.000377  0.000367   \n",
       "NC_08_0005  0.000356  0.000350  0.000399  0.000389  0.000379  0.000371   \n",
       "NC_08_0006  0.000345  0.000340  0.000389  0.000364  0.000385  0.000360   \n",
       "\n",
       "               MD_49     MD_50  \n",
       "ID                              \n",
       "NC_08_0001  0.000610  0.000682  \n",
       "NC_08_0002  0.000604  0.000731  \n",
       "NC_08_0003  0.000711  0.000792  \n",
       "NC_08_0005  0.000663  0.000789  \n",
       "NC_08_0006  0.000627  0.000656  \n",
       "\n",
       "[5 rows x 1431 columns]"
      ]
     },
     "execution_count": 19,
     "metadata": {},
     "output_type": "execute_result"
    }
   ],
   "source": [
    "data.head()"
   ]
  },
  {
   "cell_type": "code",
   "execution_count": 20,
   "metadata": {},
   "outputs": [],
   "source": [
    "y = data[\"LABEL_SCORE\"]\n",
    "x = data.iloc[:,1:]"
   ]
  },
  {
   "cell_type": "code",
   "execution_count": 15,
   "metadata": {},
   "outputs": [
    {
     "data": {
      "text/plain": [
       "(205, 1430)"
      ]
     },
     "execution_count": 15,
     "metadata": {},
     "output_type": "execute_result"
    }
   ],
   "source": [
    "x.shape"
   ]
  },
  {
   "cell_type": "code",
   "execution_count": 21,
   "metadata": {},
   "outputs": [],
   "source": [
    "from sklearn.linear_model import LogisticRegression as LR\n",
    "from sklearn.model_selection import cross_val_score \n",
    "from sklearn.feature_selection import SelectFromModel\n",
    "from sklearn.feature_selection import VarianceThreshold\n",
    "from sklearn.ensemble import RandomForestRegressor as rfr\n",
    "import matplotlib.pyplot as plt"
   ]
  },
  {
   "cell_type": "code",
   "execution_count": 92,
   "metadata": {},
   "outputs": [],
   "source": [
    "rfr = rfr(n_estimators=10,random_state=0)\n",
    "#score = cross_val_score(rfr,x,y,cv=10,scoring = \"neg_mean_squared_error\").mean()"
   ]
  },
  {
   "cell_type": "code",
   "execution_count": 16,
   "metadata": {},
   "outputs": [
    {
     "data": {
      "text/plain": [
       "GMV_1    2.295309e-03\n",
       "GMV_2    2.494829e-03\n",
       "GMV_3    3.372852e-03\n",
       "GMV_4    4.139805e-03\n",
       "GMV_5    3.458660e-03\n",
       "             ...     \n",
       "MD_46    4.021223e-10\n",
       "MD_47    2.544726e-10\n",
       "MD_48    4.177086e-10\n",
       "MD_49    3.544700e-09\n",
       "MD_50    5.002322e-09\n",
       "Length: 1430, dtype: float64"
      ]
     },
     "execution_count": 16,
     "metadata": {},
     "output_type": "execute_result"
    }
   ],
   "source": [
    "#方差过滤\n",
    "var_selector = VarianceThreshold(np.median(x.var().values))\n",
    "x_var = var_selector.fit_transform(x)\n"
   ]
  },
  {
   "cell_type": "code",
   "execution_count": 35,
   "metadata": {},
   "outputs": [],
   "source": [
    "\n",
    "score_var = cross_val_score(rfr,x_var,y,cv=10,scoring = \"neg_mean_absolute_error\").mean()"
   ]
  },
  {
   "cell_type": "code",
   "execution_count": 37,
   "metadata": {},
   "outputs": [
    {
     "data": {
      "text/plain": [
       "(-5.415971428571429, (205, 709))"
      ]
     },
     "execution_count": 37,
     "metadata": {},
     "output_type": "execute_result"
    }
   ],
   "source": [
    "(score_var,x_var.shape)"
   ]
  },
  {
   "cell_type": "code",
   "execution_count": 41,
   "metadata": {},
   "outputs": [],
   "source": [
    "#卡方过滤\\\n",
    "from sklearn.feature_selection import SelectKBest\n",
    "from sklearn.feature_selection import chi2\n",
    "\n",
    "chivalue,p_values_chi = chi2(x_var,y)\n",
    "k = chivalue.shape[0] -(p_values_chi > .05).sum() #k =246 是MAE6.2\n",
    "\n",
    "\n"
   ]
  },
  {
   "cell_type": "code",
   "execution_count": null,
   "metadata": {},
   "outputs": [],
   "source": [
    "%matplotlib inline\n",
    "score_chi = []\n",
    "for i in range(700,550,-10):\n",
    "    x_chi = SelectKBest(chi2,k = i).fit_transform(x_var,y)\n",
    "    once = cross_val_score(rfr,x_chi,y,cv=10,scoring = \"neg_mean_absolute_error\").mean()\n",
    "    score_chi.append(once)"
   ]
  },
  {
   "cell_type": "markdown",
   "metadata": {},
   "source": [
    "plt.plot(range(700,550,-10),score_chi)\n",
    "plt.show() # 670 5.36"
   ]
  },
  {
   "cell_type": "code",
   "execution_count": 48,
   "metadata": {},
   "outputs": [
    {
     "data": {
      "text/plain": [
       "-5.361207142857142"
      ]
     },
     "execution_count": 48,
     "metadata": {},
     "output_type": "execute_result"
    }
   ],
   "source": []
  },
  {
   "cell_type": "code",
   "execution_count": 99,
   "metadata": {},
   "outputs": [
    {
     "name": "stderr",
     "output_type": "stream",
     "text": [
      "C:\\Users\\32898\\Anaconda3\\lib\\site-packages\\sklearn\\linear_model\\_logistic.py:763: ConvergenceWarning: lbfgs failed to converge (status=1):\n",
      "STOP: TOTAL NO. of ITERATIONS REACHED LIMIT.\n",
      "\n",
      "Increase the number of iterations (max_iter) or scale the data as shown in:\n",
      "    https://scikit-learn.org/stable/modules/preprocessing.html\n",
      "Please also refer to the documentation for alternative solver options:\n",
      "    https://scikit-learn.org/stable/modules/linear_model.html#logistic-regression\n",
      "  n_iter_i = _check_optimize_result(\n"
     ]
    },
    {
     "data": {
      "text/plain": [
       "(205, 704)"
      ]
     },
     "execution_count": 99,
     "metadata": {},
     "output_type": "execute_result"
    }
   ],
   "source": [
    "#嵌入 LRL1\n",
    "#LR = LR(sovler='auto',random_state = 420) c怎么选都是246\n",
    "x_l1 =SelectFromModel(LR(random_state = 420,C=0.01),norm_order=1).fit_transform(x,y)\n",
    "x_l1.shape"
   ]
  },
  {
   "cell_type": "code",
   "execution_count": 93,
   "metadata": {},
   "outputs": [
    {
     "name": "stderr",
     "output_type": "stream",
     "text": [
      "C:\\Users\\32898\\Anaconda3\\lib\\site-packages\\sklearn\\linear_model\\_logistic.py:763: ConvergenceWarning: lbfgs failed to converge (status=1):\n",
      "STOP: TOTAL NO. of ITERATIONS REACHED LIMIT.\n",
      "\n",
      "Increase the number of iterations (max_iter) or scale the data as shown in:\n",
      "    https://scikit-learn.org/stable/modules/preprocessing.html\n",
      "Please also refer to the documentation for alternative solver options:\n",
      "    https://scikit-learn.org/stable/modules/linear_model.html#logistic-regression\n",
      "  n_iter_i = _check_optimize_result(\n",
      "C:\\Users\\32898\\Anaconda3\\lib\\site-packages\\sklearn\\linear_model\\_logistic.py:763: ConvergenceWarning: lbfgs failed to converge (status=1):\n",
      "STOP: TOTAL NO. of ITERATIONS REACHED LIMIT.\n",
      "\n",
      "Increase the number of iterations (max_iter) or scale the data as shown in:\n",
      "    https://scikit-learn.org/stable/modules/preprocessing.html\n",
      "Please also refer to the documentation for alternative solver options:\n",
      "    https://scikit-learn.org/stable/modules/linear_model.html#logistic-regression\n",
      "  n_iter_i = _check_optimize_result(\n",
      "C:\\Users\\32898\\Anaconda3\\lib\\site-packages\\sklearn\\linear_model\\_logistic.py:763: ConvergenceWarning: lbfgs failed to converge (status=1):\n",
      "STOP: TOTAL NO. of ITERATIONS REACHED LIMIT.\n",
      "\n",
      "Increase the number of iterations (max_iter) or scale the data as shown in:\n",
      "    https://scikit-learn.org/stable/modules/preprocessing.html\n",
      "Please also refer to the documentation for alternative solver options:\n",
      "    https://scikit-learn.org/stable/modules/linear_model.html#logistic-regression\n",
      "  n_iter_i = _check_optimize_result(\n",
      "C:\\Users\\32898\\Anaconda3\\lib\\site-packages\\sklearn\\linear_model\\_logistic.py:763: ConvergenceWarning: lbfgs failed to converge (status=1):\n",
      "STOP: TOTAL NO. of ITERATIONS REACHED LIMIT.\n",
      "\n",
      "Increase the number of iterations (max_iter) or scale the data as shown in:\n",
      "    https://scikit-learn.org/stable/modules/preprocessing.html\n",
      "Please also refer to the documentation for alternative solver options:\n",
      "    https://scikit-learn.org/stable/modules/linear_model.html#logistic-regression\n",
      "  n_iter_i = _check_optimize_result(\n",
      "C:\\Users\\32898\\Anaconda3\\lib\\site-packages\\sklearn\\linear_model\\_logistic.py:763: ConvergenceWarning: lbfgs failed to converge (status=1):\n",
      "STOP: TOTAL NO. of ITERATIONS REACHED LIMIT.\n",
      "\n",
      "Increase the number of iterations (max_iter) or scale the data as shown in:\n",
      "    https://scikit-learn.org/stable/modules/preprocessing.html\n",
      "Please also refer to the documentation for alternative solver options:\n",
      "    https://scikit-learn.org/stable/modules/linear_model.html#logistic-regression\n",
      "  n_iter_i = _check_optimize_result(\n",
      "C:\\Users\\32898\\Anaconda3\\lib\\site-packages\\sklearn\\linear_model\\_logistic.py:763: ConvergenceWarning: lbfgs failed to converge (status=1):\n",
      "STOP: TOTAL NO. of ITERATIONS REACHED LIMIT.\n",
      "\n",
      "Increase the number of iterations (max_iter) or scale the data as shown in:\n",
      "    https://scikit-learn.org/stable/modules/preprocessing.html\n",
      "Please also refer to the documentation for alternative solver options:\n",
      "    https://scikit-learn.org/stable/modules/linear_model.html#logistic-regression\n",
      "  n_iter_i = _check_optimize_result(\n",
      "C:\\Users\\32898\\Anaconda3\\lib\\site-packages\\sklearn\\linear_model\\_logistic.py:763: ConvergenceWarning: lbfgs failed to converge (status=1):\n",
      "STOP: TOTAL NO. of ITERATIONS REACHED LIMIT.\n",
      "\n",
      "Increase the number of iterations (max_iter) or scale the data as shown in:\n",
      "    https://scikit-learn.org/stable/modules/preprocessing.html\n",
      "Please also refer to the documentation for alternative solver options:\n",
      "    https://scikit-learn.org/stable/modules/linear_model.html#logistic-regression\n",
      "  n_iter_i = _check_optimize_result(\n",
      "C:\\Users\\32898\\Anaconda3\\lib\\site-packages\\sklearn\\linear_model\\_logistic.py:763: ConvergenceWarning: lbfgs failed to converge (status=1):\n",
      "STOP: TOTAL NO. of ITERATIONS REACHED LIMIT.\n",
      "\n",
      "Increase the number of iterations (max_iter) or scale the data as shown in:\n",
      "    https://scikit-learn.org/stable/modules/preprocessing.html\n",
      "Please also refer to the documentation for alternative solver options:\n",
      "    https://scikit-learn.org/stable/modules/linear_model.html#logistic-regression\n",
      "  n_iter_i = _check_optimize_result(\n",
      "C:\\Users\\32898\\Anaconda3\\lib\\site-packages\\sklearn\\linear_model\\_logistic.py:763: ConvergenceWarning: lbfgs failed to converge (status=1):\n",
      "STOP: TOTAL NO. of ITERATIONS REACHED LIMIT.\n",
      "\n",
      "Increase the number of iterations (max_iter) or scale the data as shown in:\n",
      "    https://scikit-learn.org/stable/modules/preprocessing.html\n",
      "Please also refer to the documentation for alternative solver options:\n",
      "    https://scikit-learn.org/stable/modules/linear_model.html#logistic-regression\n",
      "  n_iter_i = _check_optimize_result(\n",
      "C:\\Users\\32898\\Anaconda3\\lib\\site-packages\\sklearn\\linear_model\\_logistic.py:763: ConvergenceWarning: lbfgs failed to converge (status=1):\n",
      "STOP: TOTAL NO. of ITERATIONS REACHED LIMIT.\n",
      "\n",
      "Increase the number of iterations (max_iter) or scale the data as shown in:\n",
      "    https://scikit-learn.org/stable/modules/preprocessing.html\n",
      "Please also refer to the documentation for alternative solver options:\n",
      "    https://scikit-learn.org/stable/modules/linear_model.html#logistic-regression\n",
      "  n_iter_i = _check_optimize_result(\n",
      "C:\\Users\\32898\\Anaconda3\\lib\\site-packages\\sklearn\\linear_model\\_logistic.py:763: ConvergenceWarning: lbfgs failed to converge (status=1):\n",
      "STOP: TOTAL NO. of ITERATIONS REACHED LIMIT.\n",
      "\n",
      "Increase the number of iterations (max_iter) or scale the data as shown in:\n",
      "    https://scikit-learn.org/stable/modules/preprocessing.html\n",
      "Please also refer to the documentation for alternative solver options:\n",
      "    https://scikit-learn.org/stable/modules/linear_model.html#logistic-regression\n",
      "  n_iter_i = _check_optimize_result(\n",
      "C:\\Users\\32898\\Anaconda3\\lib\\site-packages\\sklearn\\linear_model\\_logistic.py:763: ConvergenceWarning: lbfgs failed to converge (status=1):\n",
      "STOP: TOTAL NO. of ITERATIONS REACHED LIMIT.\n",
      "\n",
      "Increase the number of iterations (max_iter) or scale the data as shown in:\n",
      "    https://scikit-learn.org/stable/modules/preprocessing.html\n",
      "Please also refer to the documentation for alternative solver options:\n",
      "    https://scikit-learn.org/stable/modules/linear_model.html#logistic-regression\n",
      "  n_iter_i = _check_optimize_result(\n",
      "C:\\Users\\32898\\Anaconda3\\lib\\site-packages\\sklearn\\linear_model\\_logistic.py:763: ConvergenceWarning: lbfgs failed to converge (status=1):\n",
      "STOP: TOTAL NO. of ITERATIONS REACHED LIMIT.\n",
      "\n",
      "Increase the number of iterations (max_iter) or scale the data as shown in:\n",
      "    https://scikit-learn.org/stable/modules/preprocessing.html\n",
      "Please also refer to the documentation for alternative solver options:\n",
      "    https://scikit-learn.org/stable/modules/linear_model.html#logistic-regression\n",
      "  n_iter_i = _check_optimize_result(\n",
      "C:\\Users\\32898\\Anaconda3\\lib\\site-packages\\sklearn\\linear_model\\_logistic.py:763: ConvergenceWarning: lbfgs failed to converge (status=1):\n",
      "STOP: TOTAL NO. of ITERATIONS REACHED LIMIT.\n",
      "\n",
      "Increase the number of iterations (max_iter) or scale the data as shown in:\n",
      "    https://scikit-learn.org/stable/modules/preprocessing.html\n",
      "Please also refer to the documentation for alternative solver options:\n",
      "    https://scikit-learn.org/stable/modules/linear_model.html#logistic-regression\n",
      "  n_iter_i = _check_optimize_result(\n",
      "C:\\Users\\32898\\Anaconda3\\lib\\site-packages\\sklearn\\linear_model\\_logistic.py:763: ConvergenceWarning: lbfgs failed to converge (status=1):\n",
      "STOP: TOTAL NO. of ITERATIONS REACHED LIMIT.\n",
      "\n",
      "Increase the number of iterations (max_iter) or scale the data as shown in:\n",
      "    https://scikit-learn.org/stable/modules/preprocessing.html\n",
      "Please also refer to the documentation for alternative solver options:\n",
      "    https://scikit-learn.org/stable/modules/linear_model.html#logistic-regression\n",
      "  n_iter_i = _check_optimize_result(\n",
      "C:\\Users\\32898\\Anaconda3\\lib\\site-packages\\sklearn\\linear_model\\_logistic.py:763: ConvergenceWarning: lbfgs failed to converge (status=1):\n",
      "STOP: TOTAL NO. of ITERATIONS REACHED LIMIT.\n",
      "\n",
      "Increase the number of iterations (max_iter) or scale the data as shown in:\n",
      "    https://scikit-learn.org/stable/modules/preprocessing.html\n",
      "Please also refer to the documentation for alternative solver options:\n",
      "    https://scikit-learn.org/stable/modules/linear_model.html#logistic-regression\n",
      "  n_iter_i = _check_optimize_result(\n"
     ]
    },
    {
     "name": "stderr",
     "output_type": "stream",
     "text": [
      "C:\\Users\\32898\\Anaconda3\\lib\\site-packages\\sklearn\\linear_model\\_logistic.py:763: ConvergenceWarning: lbfgs failed to converge (status=1):\n",
      "STOP: TOTAL NO. of ITERATIONS REACHED LIMIT.\n",
      "\n",
      "Increase the number of iterations (max_iter) or scale the data as shown in:\n",
      "    https://scikit-learn.org/stable/modules/preprocessing.html\n",
      "Please also refer to the documentation for alternative solver options:\n",
      "    https://scikit-learn.org/stable/modules/linear_model.html#logistic-regression\n",
      "  n_iter_i = _check_optimize_result(\n",
      "C:\\Users\\32898\\Anaconda3\\lib\\site-packages\\sklearn\\linear_model\\_logistic.py:763: ConvergenceWarning: lbfgs failed to converge (status=1):\n",
      "STOP: TOTAL NO. of ITERATIONS REACHED LIMIT.\n",
      "\n",
      "Increase the number of iterations (max_iter) or scale the data as shown in:\n",
      "    https://scikit-learn.org/stable/modules/preprocessing.html\n",
      "Please also refer to the documentation for alternative solver options:\n",
      "    https://scikit-learn.org/stable/modules/linear_model.html#logistic-regression\n",
      "  n_iter_i = _check_optimize_result(\n",
      "C:\\Users\\32898\\Anaconda3\\lib\\site-packages\\sklearn\\linear_model\\_logistic.py:763: ConvergenceWarning: lbfgs failed to converge (status=1):\n",
      "STOP: TOTAL NO. of ITERATIONS REACHED LIMIT.\n",
      "\n",
      "Increase the number of iterations (max_iter) or scale the data as shown in:\n",
      "    https://scikit-learn.org/stable/modules/preprocessing.html\n",
      "Please also refer to the documentation for alternative solver options:\n",
      "    https://scikit-learn.org/stable/modules/linear_model.html#logistic-regression\n",
      "  n_iter_i = _check_optimize_result(\n",
      "C:\\Users\\32898\\Anaconda3\\lib\\site-packages\\sklearn\\linear_model\\_logistic.py:763: ConvergenceWarning: lbfgs failed to converge (status=1):\n",
      "STOP: TOTAL NO. of ITERATIONS REACHED LIMIT.\n",
      "\n",
      "Increase the number of iterations (max_iter) or scale the data as shown in:\n",
      "    https://scikit-learn.org/stable/modules/preprocessing.html\n",
      "Please also refer to the documentation for alternative solver options:\n",
      "    https://scikit-learn.org/stable/modules/linear_model.html#logistic-regression\n",
      "  n_iter_i = _check_optimize_result(\n"
     ]
    },
    {
     "data": {
      "image/png": "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\n",
      "text/plain": [
       "<Figure size 432x288 with 1 Axes>"
      ]
     },
     "metadata": {
      "needs_background": "light"
     },
     "output_type": "display_data"
    }
   ],
   "source": [
    "score_l1 =[]\n",
    "for i in np.arange(0.01,10.01,0.5):\n",
    "    x_l1 =SelectFromModel(LR(C=i,random_state = 420),norm_order=1).fit_transform(x_var,y)\n",
    "    once = cross_val_score(rfr,x_l1,y,cv=10,scoring = \"neg_mean_absolute_error\").mean()\n",
    "    score_l1.append(once)\n",
    "    \n",
    "plt.plot(np.arange(0.01,10.01,0.5),score_l1)\n",
    "plt.show() "
   ]
  },
  {
   "cell_type": "code",
   "execution_count": 96,
   "metadata": {},
   "outputs": [
    {
     "data": {
      "text/plain": [
       "0"
      ]
     },
     "execution_count": 96,
     "metadata": {},
     "output_type": "execute_result"
    }
   ],
   "source": [
    "score_l1.index(max(score_l1))"
   ]
  },
  {
   "cell_type": "code",
   "execution_count": 102,
   "metadata": {},
   "outputs": [
    {
     "name": "stderr",
     "output_type": "stream",
     "text": [
      "C:\\Users\\32898\\Anaconda3\\lib\\site-packages\\sklearn\\linear_model\\_logistic.py:763: ConvergenceWarning: lbfgs failed to converge (status=1):\n",
      "STOP: TOTAL NO. of ITERATIONS REACHED LIMIT.\n",
      "\n",
      "Increase the number of iterations (max_iter) or scale the data as shown in:\n",
      "    https://scikit-learn.org/stable/modules/preprocessing.html\n",
      "Please also refer to the documentation for alternative solver options:\n",
      "    https://scikit-learn.org/stable/modules/linear_model.html#logistic-regression\n",
      "  n_iter_i = _check_optimize_result(\n"
     ]
    },
    {
     "data": {
      "text/plain": [
       "(205, 692)"
      ]
     },
     "execution_count": 102,
     "metadata": {},
     "output_type": "execute_result"
    }
   ],
   "source": [
    "x_l2 =SelectFromModel(LR(random_state = 420,penalty='l2')).fit_transform(x,y)\n",
    "x_l2.shape"
   ]
  },
  {
   "cell_type": "code",
   "execution_count": 23,
   "metadata": {},
   "outputs": [],
   "source": [
    "#PCA \n",
    "from sklearn.decomposition import PCA"
   ]
  },
  {
   "cell_type": "code",
   "execution_count": 24,
   "metadata": {},
   "outputs": [],
   "source": [
    "x_pca = PCA().fit_transform(x)\n",
    "#cross_val_score(rfr,x_pca,y,cv=10,scoring = \"neg_mean_absolute_error\").mean()"
   ]
  },
  {
   "cell_type": "code",
   "execution_count": 70,
   "metadata": {},
   "outputs": [
    {
     "data": {
      "text/plain": [
       "[<matplotlib.lines.Line2D at 0x1d65e827c40>]"
      ]
     },
     "execution_count": 70,
     "metadata": {},
     "output_type": "execute_result"
    },
    {
     "data": {
      "image/png": "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\n",
      "text/plain": [
       "<Figure size 432x288 with 1 Axes>"
      ]
     },
     "metadata": {
      "needs_background": "light"
     },
     "output_type": "display_data"
    }
   ],
   "source": [
    "x_pca = PCA().fit(x)\n",
    "\n",
    "plt.plot(np.cumsum(x_pca.explained_variance_ratio_))"
   ]
  },
  {
   "cell_type": "code",
   "execution_count": 80,
   "metadata": {},
   "outputs": [
    {
     "data": {
      "image/png": "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\n",
      "text/plain": [
       "<Figure size 432x288 with 1 Axes>"
      ]
     },
     "metadata": {
      "needs_background": "light"
     },
     "output_type": "display_data"
    }
   ],
   "source": [
    "#随机森林调参\n",
    "from sklearn.ensemble import RandomForestRegressor \n",
    "x_chi = SelectKBest(chi2,k = 670).fit_transform(x_var,y)\n",
    "score_n_es =[]\n",
    "for i in range(400,600,50):\n",
    "    rfr = RandomForestRegressor (n_estimators = i,random_state=0)\n",
    "    once = cross_val_score(rfr,x_chi,y,cv=10,scoring='neg_mean_absolute_error').mean()\n",
    "    score_n_es.append(once)\n",
    "    \n",
    "plt.plot(range(400,600,50),score_n_es)\n",
    "plt.show()"
   ]
  },
  {
   "cell_type": "code",
   "execution_count": 83,
   "metadata": {},
   "outputs": [],
   "source": [
    "rfr = RandomForestRegressor (n_estimators = 1000,random_state=0)\n",
    "once = cross_val_score(rfr,x_chi,y,cv=10,scoring='neg_mean_absolute_error').mean()"
   ]
  },
  {
   "cell_type": "code",
   "execution_count": 82,
   "metadata": {},
   "outputs": [
    {
     "data": {
      "text/plain": [
       "-5.329736111111111"
      ]
     },
     "execution_count": 82,
     "metadata": {},
     "output_type": "execute_result"
    }
   ],
   "source": [
    "once"
   ]
  },
  {
   "cell_type": "code",
   "execution_count": 6,
   "metadata": {},
   "outputs": [],
   "source": [
    "#SVM\n",
    "from sklearn.svm import SVR"
   ]
  },
  {
   "cell_type": "code",
   "execution_count": 10,
   "metadata": {},
   "outputs": [
    {
     "data": {
      "text/plain": [
       "-14.595367557082364"
      ]
     },
     "execution_count": 10,
     "metadata": {},
     "output_type": "execute_result"
    }
   ],
   "source": [
    "svr_lin = SVR(kernel='linear',, gamma='auto')\n",
    "cross_val_score(svr_lin,x,y,cv=10,scoring='neg_mean_absolute_error').mean()"
   ]
  },
  {
   "cell_type": "code",
   "execution_count": 5,
   "metadata": {},
   "outputs": [
    {
     "data": {
      "text/html": [
       "<div>\n",
       "<style scoped>\n",
       "    .dataframe tbody tr th:only-of-type {\n",
       "        vertical-align: middle;\n",
       "    }\n",
       "\n",
       "    .dataframe tbody tr th {\n",
       "        vertical-align: top;\n",
       "    }\n",
       "\n",
       "    .dataframe thead th {\n",
       "        text-align: right;\n",
       "    }\n",
       "</style>\n",
       "<table border=\"1\" class=\"dataframe\">\n",
       "  <thead>\n",
       "    <tr style=\"text-align: right;\">\n",
       "      <th></th>\n",
       "      <th>count</th>\n",
       "      <th>mean</th>\n",
       "      <th>std</th>\n",
       "      <th>min</th>\n",
       "      <th>1%</th>\n",
       "      <th>5%</th>\n",
       "      <th>10%</th>\n",
       "      <th>25%</th>\n",
       "      <th>50%</th>\n",
       "      <th>75%</th>\n",
       "      <th>90%</th>\n",
       "      <th>99%</th>\n",
       "      <th>max</th>\n",
       "    </tr>\n",
       "  </thead>\n",
       "  <tbody>\n",
       "    <tr>\n",
       "      <th>LABEL_SCORE</th>\n",
       "      <td>205.0</td>\n",
       "      <td>32.507317</td>\n",
       "      <td>8.388612</td>\n",
       "      <td>20.000000</td>\n",
       "      <td>21.040000</td>\n",
       "      <td>23.000000</td>\n",
       "      <td>24.000000</td>\n",
       "      <td>27.000000</td>\n",
       "      <td>31.000000</td>\n",
       "      <td>34.000000</td>\n",
       "      <td>48.000000</td>\n",
       "      <td>56.000000</td>\n",
       "      <td>59.000000</td>\n",
       "    </tr>\n",
       "    <tr>\n",
       "      <th>GMV_1</th>\n",
       "      <td>205.0</td>\n",
       "      <td>0.400206</td>\n",
       "      <td>0.047909</td>\n",
       "      <td>0.302990</td>\n",
       "      <td>0.314697</td>\n",
       "      <td>0.325623</td>\n",
       "      <td>0.338057</td>\n",
       "      <td>0.367002</td>\n",
       "      <td>0.398208</td>\n",
       "      <td>0.430178</td>\n",
       "      <td>0.463164</td>\n",
       "      <td>0.530046</td>\n",
       "      <td>0.561587</td>\n",
       "    </tr>\n",
       "    <tr>\n",
       "      <th>GMV_2</th>\n",
       "      <td>205.0</td>\n",
       "      <td>0.443845</td>\n",
       "      <td>0.049948</td>\n",
       "      <td>0.341428</td>\n",
       "      <td>0.349130</td>\n",
       "      <td>0.369516</td>\n",
       "      <td>0.381868</td>\n",
       "      <td>0.403672</td>\n",
       "      <td>0.442156</td>\n",
       "      <td>0.478221</td>\n",
       "      <td>0.514853</td>\n",
       "      <td>0.555319</td>\n",
       "      <td>0.579025</td>\n",
       "    </tr>\n",
       "    <tr>\n",
       "      <th>GMV_3</th>\n",
       "      <td>205.0</td>\n",
       "      <td>0.432811</td>\n",
       "      <td>0.058076</td>\n",
       "      <td>0.303411</td>\n",
       "      <td>0.319615</td>\n",
       "      <td>0.340699</td>\n",
       "      <td>0.357100</td>\n",
       "      <td>0.388611</td>\n",
       "      <td>0.429056</td>\n",
       "      <td>0.476758</td>\n",
       "      <td>0.509196</td>\n",
       "      <td>0.566277</td>\n",
       "      <td>0.579698</td>\n",
       "    </tr>\n",
       "    <tr>\n",
       "      <th>GMV_4</th>\n",
       "      <td>205.0</td>\n",
       "      <td>0.426884</td>\n",
       "      <td>0.064341</td>\n",
       "      <td>0.269081</td>\n",
       "      <td>0.304339</td>\n",
       "      <td>0.335077</td>\n",
       "      <td>0.348893</td>\n",
       "      <td>0.381787</td>\n",
       "      <td>0.419460</td>\n",
       "      <td>0.474002</td>\n",
       "      <td>0.512766</td>\n",
       "      <td>0.567502</td>\n",
       "      <td>0.574057</td>\n",
       "    </tr>\n",
       "    <tr>\n",
       "      <th>...</th>\n",
       "      <td>...</td>\n",
       "      <td>...</td>\n",
       "      <td>...</td>\n",
       "      <td>...</td>\n",
       "      <td>...</td>\n",
       "      <td>...</td>\n",
       "      <td>...</td>\n",
       "      <td>...</td>\n",
       "      <td>...</td>\n",
       "      <td>...</td>\n",
       "      <td>...</td>\n",
       "      <td>...</td>\n",
       "      <td>...</td>\n",
       "    </tr>\n",
       "    <tr>\n",
       "      <th>MD_46</th>\n",
       "      <td>205.0</td>\n",
       "      <td>0.000394</td>\n",
       "      <td>0.000020</td>\n",
       "      <td>0.000347</td>\n",
       "      <td>0.000355</td>\n",
       "      <td>0.000363</td>\n",
       "      <td>0.000368</td>\n",
       "      <td>0.000380</td>\n",
       "      <td>0.000395</td>\n",
       "      <td>0.000407</td>\n",
       "      <td>0.000419</td>\n",
       "      <td>0.000440</td>\n",
       "      <td>0.000445</td>\n",
       "    </tr>\n",
       "    <tr>\n",
       "      <th>MD_47</th>\n",
       "      <td>205.0</td>\n",
       "      <td>0.000385</td>\n",
       "      <td>0.000016</td>\n",
       "      <td>0.000348</td>\n",
       "      <td>0.000356</td>\n",
       "      <td>0.000360</td>\n",
       "      <td>0.000364</td>\n",
       "      <td>0.000373</td>\n",
       "      <td>0.000385</td>\n",
       "      <td>0.000394</td>\n",
       "      <td>0.000407</td>\n",
       "      <td>0.000423</td>\n",
       "      <td>0.000432</td>\n",
       "    </tr>\n",
       "    <tr>\n",
       "      <th>MD_48</th>\n",
       "      <td>205.0</td>\n",
       "      <td>0.000391</td>\n",
       "      <td>0.000020</td>\n",
       "      <td>0.000338</td>\n",
       "      <td>0.000352</td>\n",
       "      <td>0.000360</td>\n",
       "      <td>0.000365</td>\n",
       "      <td>0.000376</td>\n",
       "      <td>0.000391</td>\n",
       "      <td>0.000406</td>\n",
       "      <td>0.000417</td>\n",
       "      <td>0.000436</td>\n",
       "      <td>0.000447</td>\n",
       "    </tr>\n",
       "    <tr>\n",
       "      <th>MD_49</th>\n",
       "      <td>205.0</td>\n",
       "      <td>0.000655</td>\n",
       "      <td>0.000060</td>\n",
       "      <td>0.000499</td>\n",
       "      <td>0.000521</td>\n",
       "      <td>0.000545</td>\n",
       "      <td>0.000575</td>\n",
       "      <td>0.000612</td>\n",
       "      <td>0.000663</td>\n",
       "      <td>0.000695</td>\n",
       "      <td>0.000728</td>\n",
       "      <td>0.000771</td>\n",
       "      <td>0.000785</td>\n",
       "    </tr>\n",
       "    <tr>\n",
       "      <th>MD_50</th>\n",
       "      <td>205.0</td>\n",
       "      <td>0.000784</td>\n",
       "      <td>0.000071</td>\n",
       "      <td>0.000586</td>\n",
       "      <td>0.000633</td>\n",
       "      <td>0.000656</td>\n",
       "      <td>0.000688</td>\n",
       "      <td>0.000744</td>\n",
       "      <td>0.000791</td>\n",
       "      <td>0.000824</td>\n",
       "      <td>0.000863</td>\n",
       "      <td>0.000983</td>\n",
       "      <td>0.001022</td>\n",
       "    </tr>\n",
       "  </tbody>\n",
       "</table>\n",
       "<p>1431 rows × 13 columns</p>\n",
       "</div>"
      ],
      "text/plain": [
       "             count       mean       std        min         1%         5%  \\\n",
       "LABEL_SCORE  205.0  32.507317  8.388612  20.000000  21.040000  23.000000   \n",
       "GMV_1        205.0   0.400206  0.047909   0.302990   0.314697   0.325623   \n",
       "GMV_2        205.0   0.443845  0.049948   0.341428   0.349130   0.369516   \n",
       "GMV_3        205.0   0.432811  0.058076   0.303411   0.319615   0.340699   \n",
       "GMV_4        205.0   0.426884  0.064341   0.269081   0.304339   0.335077   \n",
       "...            ...        ...       ...        ...        ...        ...   \n",
       "MD_46        205.0   0.000394  0.000020   0.000347   0.000355   0.000363   \n",
       "MD_47        205.0   0.000385  0.000016   0.000348   0.000356   0.000360   \n",
       "MD_48        205.0   0.000391  0.000020   0.000338   0.000352   0.000360   \n",
       "MD_49        205.0   0.000655  0.000060   0.000499   0.000521   0.000545   \n",
       "MD_50        205.0   0.000784  0.000071   0.000586   0.000633   0.000656   \n",
       "\n",
       "                   10%        25%        50%        75%        90%        99%  \\\n",
       "LABEL_SCORE  24.000000  27.000000  31.000000  34.000000  48.000000  56.000000   \n",
       "GMV_1         0.338057   0.367002   0.398208   0.430178   0.463164   0.530046   \n",
       "GMV_2         0.381868   0.403672   0.442156   0.478221   0.514853   0.555319   \n",
       "GMV_3         0.357100   0.388611   0.429056   0.476758   0.509196   0.566277   \n",
       "GMV_4         0.348893   0.381787   0.419460   0.474002   0.512766   0.567502   \n",
       "...                ...        ...        ...        ...        ...        ...   \n",
       "MD_46         0.000368   0.000380   0.000395   0.000407   0.000419   0.000440   \n",
       "MD_47         0.000364   0.000373   0.000385   0.000394   0.000407   0.000423   \n",
       "MD_48         0.000365   0.000376   0.000391   0.000406   0.000417   0.000436   \n",
       "MD_49         0.000575   0.000612   0.000663   0.000695   0.000728   0.000771   \n",
       "MD_50         0.000688   0.000744   0.000791   0.000824   0.000863   0.000983   \n",
       "\n",
       "                   max  \n",
       "LABEL_SCORE  59.000000  \n",
       "GMV_1         0.561587  \n",
       "GMV_2         0.579025  \n",
       "GMV_3         0.579698  \n",
       "GMV_4         0.574057  \n",
       "...                ...  \n",
       "MD_46         0.000445  \n",
       "MD_47         0.000432  \n",
       "MD_48         0.000447  \n",
       "MD_49         0.000785  \n",
       "MD_50         0.001022  \n",
       "\n",
       "[1431 rows x 13 columns]"
      ]
     },
     "execution_count": 5,
     "metadata": {},
     "output_type": "execute_result"
    }
   ],
   "source": [
    "data.describe([.01, .05, .1, .25, .5, .75, .9, .99]).T"
   ]
  },
  {
   "cell_type": "code",
   "execution_count": 22,
   "metadata": {},
   "outputs": [],
   "source": [
    "#数据无量纲化\n",
    "from sklearn.preprocessing import StandardScaler\n",
    "x = StandardScaler().fit_transform(x)"
   ]
  },
  {
   "cell_type": "code",
   "execution_count": 66,
   "metadata": {},
   "outputs": [],
   "source": [
    "from sklearn.preprocessing import StandardScaler\n",
    "x_var = StandardScaler().fit_transform(x_var)"
   ]
  },
  {
   "cell_type": "code",
   "execution_count": 8,
   "metadata": {},
   "outputs": [],
   "source": [
    "from sklearn.metrics import mean_absolute_error"
   ]
  },
  {
   "cell_type": "code",
   "execution_count": 9,
   "metadata": {},
   "outputs": [],
   "source": [
    "from sklearn.model_selection import train_test_split\n",
    "from sklearn.svm import SVR"
   ]
  },
  {
   "cell_type": "code",
   "execution_count": 22,
   "metadata": {},
   "outputs": [
    {
     "name": "stdout",
     "output_type": "stream",
     "text": [
      "the accuracy under kernel linear is 3.807236\n",
      "the accuracy under kernel poly is 5.048563\n",
      "the accuracy under kernel rbf is 5.236132\n",
      "the accuracy under kernel sigmoid is 5.038800\n"
     ]
    }
   ],
   "source": [
    "xtrain, xtest, ytrain, ytest = train_test_split(x,y,test_size=0.3,random_state=420)\n",
    "Kernel = [\"linear\",\"poly\", \"rbf\", \"sigmoid\"]\n",
    "for kernel in Kernel:\n",
    "    \n",
    "    clf = SVR(kernel=kernel\n",
    "              ,gamma = \"auto\"\n",
    "              ,cache_size=3000 #表示你可以允许使用多大的内存\n",
    "              ,degree=1\n",
    "             \n",
    "             ).fit(xtrain,ytrain)\n",
    "    y_predict = clf.predict(xtest)\n",
    "    print(\"the accuracy under kernel %s is %f\" % (kernel,mean_absolute_error(ytest, y_predict)))  #%f浮点数 %s字符串\n",
    "    "
   ]
  },
  {
   "cell_type": "code",
   "execution_count": 18,
   "metadata": {},
   "outputs": [
    {
     "name": "stdout",
     "output_type": "stream",
     "text": [
      "the accuracy under kernel linear is -4.716956\n",
      "the accuracy under kernel poly is -5.211333\n",
      "the accuracy under kernel rbf is -5.641620\n",
      "the accuracy under kernel sigmoid is -5.229426\n"
     ]
    }
   ],
   "source": [
    "Kernel = [\"linear\",\"poly\", \"rbf\", \"sigmoid\"]\n",
    "for kernel in Kernel:\n",
    "    \n",
    "    clf = SVR(kernel=kernel\n",
    "              ,gamma = \"auto\"\n",
    "              ,cache_size=3000 #表示你可以允许使用多大的内存\n",
    "              ,degree=1\n",
    "             \n",
    "             )\n",
    " \n",
    "    print(\"the accuracy under kernel %s is %f\" % (kernel,cross_val_score(clf,x,y,cv=10,scoring='neg_mean_absolute_error').mean()))  #%f浮点数 %s字符串\n",
    "    "
   ]
  },
  {
   "cell_type": "code",
   "execution_count": null,
   "metadata": {},
   "outputs": [],
   "source": [
    "score = []\n",
    "gamma_range = np.logspace(-10,1,50)   #返回对数刻度上均匀间隔的数字\n",
    "for i in gamma_range:\n",
    "    clf = SVR(kernel=\"rbf\", gamma = i,cache_size=3000).fit(xtrain,ytrain)\n",
    "    y_predict = clf.predict(xtest)\n",
    "    score.append(mean_absolute_error(ytest, y_predict))"
   ]
  },
  {
   "cell_type": "code",
   "execution_count": 24,
   "metadata": {},
   "outputs": [
    {
     "name": "stdout",
     "output_type": "stream",
     "text": [
      "5.22699239829964 0.0005428675439323859\n"
     ]
    },
    {
     "data": {
      "image/png": "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\n",
      "text/plain": [
       "<Figure size 432x288 with 1 Axes>"
      ]
     },
     "metadata": {
      "needs_background": "light"
     },
     "output_type": "display_data"
    }
   ],
   "source": [
    "print(min(score),gamma_range[score.index(min(score))])\n",
    "plt.plot(gamma_range,score)\n",
    "plt.show()"
   ]
  },
  {
   "cell_type": "code",
   "execution_count": 31,
   "metadata": {},
   "outputs": [
    {
     "data": {
      "text/plain": [
       "array([1, 2])"
      ]
     },
     "execution_count": 31,
     "metadata": {},
     "output_type": "execute_result"
    }
   ],
   "source": [
    "degree_range = np.array(range(1,3))\n",
    "degree_range\n"
   ]
  },
  {
   "cell_type": "code",
   "execution_count": 106,
   "metadata": {},
   "outputs": [
    {
     "name": "stdout",
     "output_type": "stream",
     "text": [
      "best parameters are {'coef0': 5.0, 'gamma': 0.00011513953993264481} with a score of -4.41537\n"
     ]
    }
   ],
   "source": [
    "from sklearn.model_selection import StratifiedShuffleSplit #\n",
    "from sklearn.model_selection import GridSearchCV\n",
    "\n",
    "\n",
    "gamma_range = np.logspace(-10,1,50)\n",
    "coef0_range = np.linspace(5,10,10)\n",
    "#degree_range = np.array(range(1,3))\n",
    "param_grid = dict(gamma = gamma_range\n",
    "                 ,coef0 = coef0_range\n",
    "#                  ,degree = 3 \n",
    "                 )\n",
    "\n",
    "#cv = StratifiedShuffleSplit(n_splits=5, test_size=.3, random_state=420) #n_split数据分成几份\n",
    "grid = GridSearchCV(SVR(degree = 3,kernel=\"poly\",cache_size=3000),param_grid=param_grid, cv=10,scoring='neg_mean_absolute_error')\n",
    "grid.fit(x,y)\n",
    "\n",
    "print(\"best parameters are %s with a score of %0.5f\" % (grid.best_params_,grid.best_score_) )\n"
   ]
  },
  {
   "cell_type": "code",
   "execution_count": 23,
   "metadata": {},
   "outputs": [
    {
     "data": {
      "image/png": "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\n",
      "text/plain": [
       "<Figure size 432x288 with 1 Axes>"
      ]
     },
     "metadata": {
      "needs_background": "light"
     },
     "output_type": "display_data"
    },
    {
     "data": {
      "text/plain": [
       "3.6595193788364395"
      ]
     },
     "execution_count": 23,
     "metadata": {},
     "output_type": "execute_result"
    }
   ],
   "source": [
    "score_l = []\n",
    "xtrain, xtest, ytrain, ytest = train_test_split(x,y,test_size=0.3,random_state=420)\n",
    "c_range = np.linspace(.01,10,20)\n",
    "for i in c_range:\n",
    "    \n",
    "    clf = SVR(kernel=\"poly\"\n",
    "              ,gamma = 0.00011513953993264481\n",
    "              ,cache_size=3000 #表示你可以允许使用多大的内存\n",
    "              ,degree=3\n",
    "              ,C = i\n",
    "              ,coef0=5\n",
    "             \n",
    "             ).fit(xtrain,ytrain)\n",
    "    y_predict = clf.predict(xtest)\n",
    "    score_l.append(mean_absolute_error(ytest, y_predict))\n",
    "    #print(\"the accuracy under kernel %s is %f\" % (kernel,mean_absolute_error(ytest, y_predict))) \n",
    "    \n",
    "plt.plot(c_range,score_l)\n",
    "plt.show()\n",
    "min(score_l)"
   ]
  },
  {
   "cell_type": "code",
   "execution_count": 127,
   "metadata": {},
   "outputs": [
    {
     "data": {
      "text/plain": [
       "2.6389473684210527"
      ]
     },
     "execution_count": 127,
     "metadata": {},
     "output_type": "execute_result"
    }
   ],
   "source": [
    "c_range[score_l.index(min(score_l))]"
   ]
  },
  {
   "cell_type": "code",
   "execution_count": 59,
   "metadata": {},
   "outputs": [
    {
     "name": "stdout",
     "output_type": "stream",
     "text": [
      "4.071091041647725 31.105263157894736\n"
     ]
    },
    {
     "data": {
      "image/png": "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\n",
      "text/plain": [
       "<Figure size 432x288 with 1 Axes>"
      ]
     },
     "metadata": {
      "needs_background": "light"
     },
     "output_type": "display_data"
    }
   ],
   "source": [
    "score_l = []\n",
    "xtrain, xtest, ytrain, ytest = train_test_split(x,y,test_size=0.3,random_state=420)\n",
    "c_range = np.linspace(30,33,20)\n",
    "for i in c_range:\n",
    "    \n",
    "    clf = SVR(kernel=\"rbf\"\n",
    "              ,gamma = 0.0005428675439323859\n",
    "              ,cache_size=3000 #表示你可以允许使用多大的内存\n",
    "              ,degree=1\n",
    "              ,C = i\n",
    "             \n",
    "             ).fit(xtrain,ytrain)\n",
    "    y_predict = clf.predict(xtest)\n",
    "    score_l.append(mean_absolute_error(ytest, y_predict))\n",
    "    #print(\"the accuracy under kernel %s is %f\" % (kernel,mean_absolute_error(ytest, y_predict))) \n",
    "print(min(score_l),c_range[score_l.index(min(score_l))])    \n",
    "plt.plot(c_range,score_l)\n",
    "plt.show()"
   ]
  },
  {
   "cell_type": "code",
   "execution_count": 33,
   "metadata": {},
   "outputs": [
    {
     "name": "stdout",
     "output_type": "stream",
     "text": [
      "3.6481693343708597 0.6220408163265306\n"
     ]
    },
    {
     "data": {
      "image/png": "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\n",
      "text/plain": [
       "<Figure size 432x288 with 1 Axes>"
      ]
     },
     "metadata": {
      "needs_background": "light"
     },
     "output_type": "display_data"
    }
   ],
   "source": [
    "score_l = []\n",
    "xtrain, xtest, ytrain, ytest = train_test_split(x,y,test_size=0.3,random_state=420)\n",
    "c_range = np.linspace(.01,30,50)\n",
    "for i in c_range:\n",
    "    \n",
    "    clf = SVR(kernel=\"poly\"\n",
    "              ,gamma = 0.0005428675439323859\n",
    "              ,cache_size=3000 #表示你可以允许使用多大的内存\n",
    "              ,degree=3\n",
    "              ,coef0= 8.333333333333334\n",
    "              ,C = i\n",
    "             \n",
    "             ).fit(xtrain,ytrain)\n",
    "    y_predict = clf.predict(xtest)\n",
    "    score_l.append(mean_absolute_error(ytest, y_predict))\n",
    "    #print(\"the accuracy under kernel %s is %f\" % (kernel,mean_absolute_error(ytest, y_predict))) \n",
    "print(min(score_l),c_range[score_l.index(min(score_l))])    \n",
    "plt.plot(c_range,score_l)\n",
    "plt.show()"
   ]
  },
  {
   "cell_type": "code",
   "execution_count": 138,
   "metadata": {},
   "outputs": [
    {
     "data": {
      "text/plain": [
       "array([[1.        , 0.80551466],\n",
       "       [0.80551466, 1.        ]])"
      ]
     },
     "execution_count": 138,
     "metadata": {},
     "output_type": "execute_result"
    }
   ],
   "source": [
    "xtrain, xtest, ytrain, ytest = train_test_split(x_pca,y,test_size=0.3,random_state=420)\n",
    "clf = SVR(kernel=\"poly\"\n",
    "          ,gamma = 0.0005428675439323859\n",
    "          ,cache_size=3000 #表示你可以允许使用多大的内存\n",
    "          ,degree=2\n",
    "          ,coef0= 8.333333333333334\n",
    "          ,C = 2.4581632653061223\n",
    "             \n",
    "             ).fit(xtrain,ytrain)\n",
    "y_predict = clf.predict(xtest)\n",
    "mean_absolute_error(ytest, y_predict)\n",
    "np.corrcoef(y_predict,ytest)"
   ]
  },
  {
   "cell_type": "code",
   "execution_count": 29,
   "metadata": {},
   "outputs": [
    {
     "data": {
      "text/plain": [
       "(3.659519378836441, -4.676044308969394)"
      ]
     },
     "execution_count": 29,
     "metadata": {},
     "output_type": "execute_result"
    }
   ],
   "source": [
    "xtrain, xtest, ytrain, ytest = train_test_split(x_pca,y,test_size=0.3,random_state=420)\n",
    "\n",
    "clf = SVR(kernel=\"poly\"\n",
    "          ,gamma = 0.00011513953993264481\n",
    "          ,cache_size=3000 #表示你可以允许使用多大的内存\n",
    "          ,degree=3\n",
    "          ,coef0= 5\n",
    "          ,C = 2.6389473684210527\n",
    "             \n",
    "             ).fit(xtrain,ytrain)\n",
    "score = cross_val_score(clf,xtrain,ytrain,cv=10,scoring='neg_mean_absolute_error').mean()\n",
    "y_predict = clf.predict(xtest)\n",
    "(mean_absolute_error(ytest, y_predict),score)"
   ]
  },
  {
   "cell_type": "code",
   "execution_count": 25,
   "metadata": {},
   "outputs": [
    {
     "data": {
      "text/plain": [
       "-1.1706489325350151"
      ]
     },
     "execution_count": 25,
     "metadata": {},
     "output_type": "execute_result"
    }
   ],
   "source": [
    "sum(clf.predict(xtest) - ytest)/len(ytest)"
   ]
  },
  {
   "cell_type": "code",
   "execution_count": 28,
   "metadata": {},
   "outputs": [],
   "source": [
    "data_te = pd.read_csv(r\"D:/jupyterwork/_processing_data/_datasets/disease_dti_fmri_mri.csv\",index_col=0)"
   ]
  },
  {
   "cell_type": "code",
   "execution_count": 29,
   "metadata": {},
   "outputs": [
    {
     "data": {
      "text/html": [
       "<div>\n",
       "<style scoped>\n",
       "    .dataframe tbody tr th:only-of-type {\n",
       "        vertical-align: middle;\n",
       "    }\n",
       "\n",
       "    .dataframe tbody tr th {\n",
       "        vertical-align: top;\n",
       "    }\n",
       "\n",
       "    .dataframe thead th {\n",
       "        text-align: right;\n",
       "    }\n",
       "</style>\n",
       "<table border=\"1\" class=\"dataframe\">\n",
       "  <thead>\n",
       "    <tr style=\"text-align: right;\">\n",
       "      <th></th>\n",
       "      <th>GROUP</th>\n",
       "      <th>AGE</th>\n",
       "      <th>GMV_1</th>\n",
       "      <th>GMV_2</th>\n",
       "      <th>GMV_3</th>\n",
       "      <th>GMV_4</th>\n",
       "      <th>GMV_5</th>\n",
       "      <th>GMV_6</th>\n",
       "      <th>GMV_7</th>\n",
       "      <th>GMV_8</th>\n",
       "      <th>...</th>\n",
       "      <th>MD_41</th>\n",
       "      <th>MD_42</th>\n",
       "      <th>MD_43</th>\n",
       "      <th>MD_44</th>\n",
       "      <th>MD_45</th>\n",
       "      <th>MD_46</th>\n",
       "      <th>MD_47</th>\n",
       "      <th>MD_48</th>\n",
       "      <th>MD_49</th>\n",
       "      <th>MD_50</th>\n",
       "    </tr>\n",
       "    <tr>\n",
       "      <th>ID</th>\n",
       "      <th></th>\n",
       "      <th></th>\n",
       "      <th></th>\n",
       "      <th></th>\n",
       "      <th></th>\n",
       "      <th></th>\n",
       "      <th></th>\n",
       "      <th></th>\n",
       "      <th></th>\n",
       "      <th></th>\n",
       "      <th></th>\n",
       "      <th></th>\n",
       "      <th></th>\n",
       "      <th></th>\n",
       "      <th></th>\n",
       "      <th></th>\n",
       "      <th></th>\n",
       "      <th></th>\n",
       "      <th></th>\n",
       "      <th></th>\n",
       "      <th></th>\n",
       "    </tr>\n",
       "  </thead>\n",
       "  <tbody>\n",
       "    <tr>\n",
       "      <th>SZ_08_0001</th>\n",
       "      <td>2</td>\n",
       "      <td>36</td>\n",
       "      <td>0.438848</td>\n",
       "      <td>0.479481</td>\n",
       "      <td>0.434472</td>\n",
       "      <td>0.379024</td>\n",
       "      <td>0.458626</td>\n",
       "      <td>0.425523</td>\n",
       "      <td>0.459897</td>\n",
       "      <td>0.445978</td>\n",
       "      <td>...</td>\n",
       "      <td>0.000348</td>\n",
       "      <td>0.000350</td>\n",
       "      <td>0.000327</td>\n",
       "      <td>0.000341</td>\n",
       "      <td>0.000378</td>\n",
       "      <td>0.000368</td>\n",
       "      <td>0.000385</td>\n",
       "      <td>0.000376</td>\n",
       "      <td>0.000629</td>\n",
       "      <td>0.000759</td>\n",
       "    </tr>\n",
       "    <tr>\n",
       "      <th>SZ_08_0002</th>\n",
       "      <td>2</td>\n",
       "      <td>29</td>\n",
       "      <td>0.463868</td>\n",
       "      <td>0.466438</td>\n",
       "      <td>0.438834</td>\n",
       "      <td>0.386706</td>\n",
       "      <td>0.505778</td>\n",
       "      <td>0.442986</td>\n",
       "      <td>0.426004</td>\n",
       "      <td>0.506690</td>\n",
       "      <td>...</td>\n",
       "      <td>0.000369</td>\n",
       "      <td>0.000372</td>\n",
       "      <td>0.000377</td>\n",
       "      <td>0.000346</td>\n",
       "      <td>0.000425</td>\n",
       "      <td>0.000414</td>\n",
       "      <td>0.000390</td>\n",
       "      <td>0.000386</td>\n",
       "      <td>0.000703</td>\n",
       "      <td>0.000858</td>\n",
       "    </tr>\n",
       "    <tr>\n",
       "      <th>SZ_08_0003</th>\n",
       "      <td>2</td>\n",
       "      <td>45</td>\n",
       "      <td>0.355847</td>\n",
       "      <td>0.470156</td>\n",
       "      <td>0.395032</td>\n",
       "      <td>0.428751</td>\n",
       "      <td>0.391494</td>\n",
       "      <td>0.394239</td>\n",
       "      <td>0.341174</td>\n",
       "      <td>0.447368</td>\n",
       "      <td>...</td>\n",
       "      <td>0.000380</td>\n",
       "      <td>0.000382</td>\n",
       "      <td>0.000321</td>\n",
       "      <td>0.000315</td>\n",
       "      <td>0.000397</td>\n",
       "      <td>0.000411</td>\n",
       "      <td>0.000429</td>\n",
       "      <td>0.000460</td>\n",
       "      <td>0.000768</td>\n",
       "      <td>0.000892</td>\n",
       "    </tr>\n",
       "    <tr>\n",
       "      <th>SZ_08_0004</th>\n",
       "      <td>1</td>\n",
       "      <td>24</td>\n",
       "      <td>0.421580</td>\n",
       "      <td>0.467441</td>\n",
       "      <td>0.463885</td>\n",
       "      <td>0.476871</td>\n",
       "      <td>0.423688</td>\n",
       "      <td>0.445775</td>\n",
       "      <td>0.432178</td>\n",
       "      <td>0.445385</td>\n",
       "      <td>...</td>\n",
       "      <td>0.000359</td>\n",
       "      <td>0.000360</td>\n",
       "      <td>0.000336</td>\n",
       "      <td>0.000355</td>\n",
       "      <td>0.000393</td>\n",
       "      <td>0.000391</td>\n",
       "      <td>0.000396</td>\n",
       "      <td>0.000403</td>\n",
       "      <td>0.000645</td>\n",
       "      <td>0.000897</td>\n",
       "    </tr>\n",
       "    <tr>\n",
       "      <th>SZ_08_0005</th>\n",
       "      <td>2</td>\n",
       "      <td>48</td>\n",
       "      <td>0.355368</td>\n",
       "      <td>0.387308</td>\n",
       "      <td>0.458844</td>\n",
       "      <td>0.438210</td>\n",
       "      <td>0.437872</td>\n",
       "      <td>0.433659</td>\n",
       "      <td>0.400796</td>\n",
       "      <td>0.332454</td>\n",
       "      <td>...</td>\n",
       "      <td>0.000364</td>\n",
       "      <td>0.000360</td>\n",
       "      <td>0.000341</td>\n",
       "      <td>0.000335</td>\n",
       "      <td>0.000384</td>\n",
       "      <td>0.000385</td>\n",
       "      <td>0.000370</td>\n",
       "      <td>0.000376</td>\n",
       "      <td>0.000624</td>\n",
       "      <td>0.000710</td>\n",
       "    </tr>\n",
       "    <tr>\n",
       "      <th>...</th>\n",
       "      <td>...</td>\n",
       "      <td>...</td>\n",
       "      <td>...</td>\n",
       "      <td>...</td>\n",
       "      <td>...</td>\n",
       "      <td>...</td>\n",
       "      <td>...</td>\n",
       "      <td>...</td>\n",
       "      <td>...</td>\n",
       "      <td>...</td>\n",
       "      <td>...</td>\n",
       "      <td>...</td>\n",
       "      <td>...</td>\n",
       "      <td>...</td>\n",
       "      <td>...</td>\n",
       "      <td>...</td>\n",
       "      <td>...</td>\n",
       "      <td>...</td>\n",
       "      <td>...</td>\n",
       "      <td>...</td>\n",
       "      <td>...</td>\n",
       "    </tr>\n",
       "    <tr>\n",
       "      <th>SZ_08_0180</th>\n",
       "      <td>1</td>\n",
       "      <td>47</td>\n",
       "      <td>0.328515</td>\n",
       "      <td>0.374863</td>\n",
       "      <td>0.325100</td>\n",
       "      <td>0.336422</td>\n",
       "      <td>0.334179</td>\n",
       "      <td>0.322615</td>\n",
       "      <td>0.294423</td>\n",
       "      <td>0.311798</td>\n",
       "      <td>...</td>\n",
       "      <td>0.000372</td>\n",
       "      <td>0.000382</td>\n",
       "      <td>0.000327</td>\n",
       "      <td>0.000349</td>\n",
       "      <td>0.000410</td>\n",
       "      <td>0.000407</td>\n",
       "      <td>0.000381</td>\n",
       "      <td>0.000397</td>\n",
       "      <td>0.000754</td>\n",
       "      <td>0.000869</td>\n",
       "    </tr>\n",
       "    <tr>\n",
       "      <th>SZ_08_0181</th>\n",
       "      <td>2</td>\n",
       "      <td>26</td>\n",
       "      <td>0.278000</td>\n",
       "      <td>0.309150</td>\n",
       "      <td>0.334327</td>\n",
       "      <td>0.330255</td>\n",
       "      <td>0.280035</td>\n",
       "      <td>0.321969</td>\n",
       "      <td>0.305937</td>\n",
       "      <td>0.313289</td>\n",
       "      <td>...</td>\n",
       "      <td>0.000357</td>\n",
       "      <td>0.000390</td>\n",
       "      <td>0.000343</td>\n",
       "      <td>0.000384</td>\n",
       "      <td>0.000402</td>\n",
       "      <td>0.000421</td>\n",
       "      <td>0.000384</td>\n",
       "      <td>0.000411</td>\n",
       "      <td>0.000661</td>\n",
       "      <td>0.000827</td>\n",
       "    </tr>\n",
       "    <tr>\n",
       "      <th>SZ_08_0182</th>\n",
       "      <td>2</td>\n",
       "      <td>41</td>\n",
       "      <td>0.337871</td>\n",
       "      <td>0.433079</td>\n",
       "      <td>0.404563</td>\n",
       "      <td>0.366137</td>\n",
       "      <td>0.384750</td>\n",
       "      <td>0.351702</td>\n",
       "      <td>0.447770</td>\n",
       "      <td>0.430315</td>\n",
       "      <td>...</td>\n",
       "      <td>0.000356</td>\n",
       "      <td>0.000371</td>\n",
       "      <td>0.000363</td>\n",
       "      <td>0.000337</td>\n",
       "      <td>0.000383</td>\n",
       "      <td>0.000399</td>\n",
       "      <td>0.000380</td>\n",
       "      <td>0.000391</td>\n",
       "      <td>0.000753</td>\n",
       "      <td>0.000848</td>\n",
       "    </tr>\n",
       "    <tr>\n",
       "      <th>SZ_08_0183</th>\n",
       "      <td>2</td>\n",
       "      <td>29</td>\n",
       "      <td>0.339096</td>\n",
       "      <td>0.348515</td>\n",
       "      <td>0.397640</td>\n",
       "      <td>0.314408</td>\n",
       "      <td>0.375270</td>\n",
       "      <td>0.345133</td>\n",
       "      <td>0.319786</td>\n",
       "      <td>0.362065</td>\n",
       "      <td>...</td>\n",
       "      <td>0.000385</td>\n",
       "      <td>0.000389</td>\n",
       "      <td>0.000371</td>\n",
       "      <td>0.000357</td>\n",
       "      <td>0.000417</td>\n",
       "      <td>0.000400</td>\n",
       "      <td>0.000416</td>\n",
       "      <td>0.000442</td>\n",
       "      <td>0.000639</td>\n",
       "      <td>0.000693</td>\n",
       "    </tr>\n",
       "    <tr>\n",
       "      <th>SZ_08_0184</th>\n",
       "      <td>1</td>\n",
       "      <td>35</td>\n",
       "      <td>0.429025</td>\n",
       "      <td>0.462167</td>\n",
       "      <td>0.506488</td>\n",
       "      <td>0.507887</td>\n",
       "      <td>0.437549</td>\n",
       "      <td>0.506722</td>\n",
       "      <td>0.457772</td>\n",
       "      <td>0.551085</td>\n",
       "      <td>...</td>\n",
       "      <td>0.000385</td>\n",
       "      <td>0.000385</td>\n",
       "      <td>0.000393</td>\n",
       "      <td>0.000383</td>\n",
       "      <td>0.000427</td>\n",
       "      <td>0.000431</td>\n",
       "      <td>0.000396</td>\n",
       "      <td>0.000413</td>\n",
       "      <td>0.000721</td>\n",
       "      <td>0.000843</td>\n",
       "    </tr>\n",
       "  </tbody>\n",
       "</table>\n",
       "<p>140 rows × 1432 columns</p>\n",
       "</div>"
      ],
      "text/plain": [
       "            GROUP  AGE     GMV_1     GMV_2     GMV_3     GMV_4     GMV_5  \\\n",
       "ID                                                                         \n",
       "SZ_08_0001      2   36  0.438848  0.479481  0.434472  0.379024  0.458626   \n",
       "SZ_08_0002      2   29  0.463868  0.466438  0.438834  0.386706  0.505778   \n",
       "SZ_08_0003      2   45  0.355847  0.470156  0.395032  0.428751  0.391494   \n",
       "SZ_08_0004      1   24  0.421580  0.467441  0.463885  0.476871  0.423688   \n",
       "SZ_08_0005      2   48  0.355368  0.387308  0.458844  0.438210  0.437872   \n",
       "...           ...  ...       ...       ...       ...       ...       ...   \n",
       "SZ_08_0180      1   47  0.328515  0.374863  0.325100  0.336422  0.334179   \n",
       "SZ_08_0181      2   26  0.278000  0.309150  0.334327  0.330255  0.280035   \n",
       "SZ_08_0182      2   41  0.337871  0.433079  0.404563  0.366137  0.384750   \n",
       "SZ_08_0183      2   29  0.339096  0.348515  0.397640  0.314408  0.375270   \n",
       "SZ_08_0184      1   35  0.429025  0.462167  0.506488  0.507887  0.437549   \n",
       "\n",
       "               GMV_6     GMV_7     GMV_8  ...     MD_41     MD_42     MD_43  \\\n",
       "ID                                        ...                                 \n",
       "SZ_08_0001  0.425523  0.459897  0.445978  ...  0.000348  0.000350  0.000327   \n",
       "SZ_08_0002  0.442986  0.426004  0.506690  ...  0.000369  0.000372  0.000377   \n",
       "SZ_08_0003  0.394239  0.341174  0.447368  ...  0.000380  0.000382  0.000321   \n",
       "SZ_08_0004  0.445775  0.432178  0.445385  ...  0.000359  0.000360  0.000336   \n",
       "SZ_08_0005  0.433659  0.400796  0.332454  ...  0.000364  0.000360  0.000341   \n",
       "...              ...       ...       ...  ...       ...       ...       ...   \n",
       "SZ_08_0180  0.322615  0.294423  0.311798  ...  0.000372  0.000382  0.000327   \n",
       "SZ_08_0181  0.321969  0.305937  0.313289  ...  0.000357  0.000390  0.000343   \n",
       "SZ_08_0182  0.351702  0.447770  0.430315  ...  0.000356  0.000371  0.000363   \n",
       "SZ_08_0183  0.345133  0.319786  0.362065  ...  0.000385  0.000389  0.000371   \n",
       "SZ_08_0184  0.506722  0.457772  0.551085  ...  0.000385  0.000385  0.000393   \n",
       "\n",
       "               MD_44     MD_45     MD_46     MD_47     MD_48     MD_49  \\\n",
       "ID                                                                       \n",
       "SZ_08_0001  0.000341  0.000378  0.000368  0.000385  0.000376  0.000629   \n",
       "SZ_08_0002  0.000346  0.000425  0.000414  0.000390  0.000386  0.000703   \n",
       "SZ_08_0003  0.000315  0.000397  0.000411  0.000429  0.000460  0.000768   \n",
       "SZ_08_0004  0.000355  0.000393  0.000391  0.000396  0.000403  0.000645   \n",
       "SZ_08_0005  0.000335  0.000384  0.000385  0.000370  0.000376  0.000624   \n",
       "...              ...       ...       ...       ...       ...       ...   \n",
       "SZ_08_0180  0.000349  0.000410  0.000407  0.000381  0.000397  0.000754   \n",
       "SZ_08_0181  0.000384  0.000402  0.000421  0.000384  0.000411  0.000661   \n",
       "SZ_08_0182  0.000337  0.000383  0.000399  0.000380  0.000391  0.000753   \n",
       "SZ_08_0183  0.000357  0.000417  0.000400  0.000416  0.000442  0.000639   \n",
       "SZ_08_0184  0.000383  0.000427  0.000431  0.000396  0.000413  0.000721   \n",
       "\n",
       "               MD_50  \n",
       "ID                    \n",
       "SZ_08_0001  0.000759  \n",
       "SZ_08_0002  0.000858  \n",
       "SZ_08_0003  0.000892  \n",
       "SZ_08_0004  0.000897  \n",
       "SZ_08_0005  0.000710  \n",
       "...              ...  \n",
       "SZ_08_0180  0.000869  \n",
       "SZ_08_0181  0.000827  \n",
       "SZ_08_0182  0.000848  \n",
       "SZ_08_0183  0.000693  \n",
       "SZ_08_0184  0.000843  \n",
       "\n",
       "[140 rows x 1432 columns]"
      ]
     },
     "execution_count": 29,
     "metadata": {},
     "output_type": "execute_result"
    }
   ],
   "source": [
    "data_te"
   ]
  },
  {
   "cell_type": "code",
   "execution_count": 30,
   "metadata": {},
   "outputs": [],
   "source": [
    "x_te = data_te.iloc[:,2:]\n",
    "y_te = data_te.iloc[:,1]"
   ]
  },
  {
   "cell_type": "code",
   "execution_count": 31,
   "metadata": {},
   "outputs": [],
   "source": [
    "x_te = StandardScaler().fit_transform(x_te)"
   ]
  },
  {
   "cell_type": "code",
   "execution_count": 32,
   "metadata": {},
   "outputs": [
    {
     "data": {
      "text/plain": [
       "-2.0303647291615636"
      ]
     },
     "execution_count": 32,
     "metadata": {},
     "output_type": "execute_result"
    }
   ],
   "source": [
    "sum(clf.predict(x_te) - y_te)/len(y_te)"
   ]
  },
  {
   "cell_type": "code",
   "execution_count": null,
   "metadata": {},
   "outputs": [],
   "source": []
  },
  {
   "cell_type": "code",
   "execution_count": null,
   "metadata": {},
   "outputs": [],
   "source": []
  },
  {
   "cell_type": "code",
   "execution_count": 14,
   "metadata": {},
   "outputs": [
    {
     "data": {
      "text/plain": [
       "array([[1.        , 0.80382737],\n",
       "       [0.80382737, 1.        ]])"
      ]
     },
     "execution_count": 14,
     "metadata": {},
     "output_type": "execute_result"
    }
   ],
   "source": [
    "xtrain, xtest, ytrain, ytest = train_test_split(x,y,test_size=0.3,random_state=420)\n",
    "clf = SVR(kernel=\"poly\"\n",
    "          ,gamma = 0.00011513953993264481\n",
    "          ,cache_size=3000 #表示你可以允许使用多大的内存\n",
    "          ,degree=3\n",
    "          ,coef0= 5\n",
    "          ,C = 2.6389473684210527\n",
    "             \n",
    "             ).fit(xtrain,ytrain)\n",
    "y_predict = clf.predict(xtest)\n",
    "(np.corrcoef(y_predict,ytest))"
   ]
  },
  {
   "cell_type": "code",
   "execution_count": 16,
   "metadata": {},
   "outputs": [
    {
     "data": {
      "text/plain": [
       "0.6132627262755844"
      ]
     },
     "execution_count": 16,
     "metadata": {},
     "output_type": "execute_result"
    }
   ],
   "source": [
    "clf.score(xtest,ytest)"
   ]
  },
  {
   "cell_type": "code",
   "execution_count": null,
   "metadata": {},
   "outputs": [],
   "source": []
  }
 ],
 "metadata": {
  "kernelspec": {
   "display_name": "Python 3",
   "language": "python",
   "name": "python3"
  },
  "language_info": {
   "codemirror_mode": {
    "name": "ipython",
    "version": 3
   },
   "file_extension": ".py",
   "mimetype": "text/x-python",
   "name": "python",
   "nbconvert_exporter": "python",
   "pygments_lexer": "ipython3",
   "version": "3.8.5"
  }
 },
 "nbformat": 4,
 "nbformat_minor": 4
}
